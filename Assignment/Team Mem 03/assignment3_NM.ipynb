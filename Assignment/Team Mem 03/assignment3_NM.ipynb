{
 "cells": [
  {
   "cell_type": "code",
   "execution_count": 1,
   "id": "ef108909",
   "metadata": {},
   "outputs": [],
   "source": [
    "import os\n",
    "from tensorflow.keras.preprocessing.image import ImageDataGenerator\n"
   ]
  },
  {
   "cell_type": "code",
   "execution_count": 2,
   "id": "16b7deee",
   "metadata": {},
   "outputs": [],
   "source": [
    "datagen = ImageDataGenerator(\n",
    "    rotation_range=20,\n",
    "    width_shift_range=0.2,\n",
    "    height_shift_range=0.2,\n",
    "    horizontal_flip=True\n",
    ")"
   ]
  },
  {
   "cell_type": "code",
   "execution_count": 7,
   "id": "e440180a",
   "metadata": {},
   "outputs": [
    {
     "name": "stdout",
     "output_type": "stream",
     "text": [
      "Found 5400 images belonging to 90 classes.\n",
      "Found 0 images belonging to 90 classes.\n"
     ]
    }
   ],
   "source": [
    "from tensorflow.keras.preprocessing.image import ImageDataGenerator\n",
    "\n",
    "main_directory = 'C:/New folder/animals'\n",
    "\n",
    "datagen = ImageDataGenerator(\n",
    "    rotation_range=20,\n",
    "    width_shift_range=0.1,\n",
    "    height_shift_range=0.1,\n",
    "    shear_range=0.2,\n",
    "    zoom_range=0.2,\n",
    "    horizontal_flip=True,\n",
    "    vertical_flip=True,\n",
    "    rescale=1./255\n",
    ")\n",
    "\n",
    "target_size = (224, 224)\n",
    "\n",
    "batch_size = 32\n",
    "\n",
    "train_generator = datagen.flow_from_directory(\n",
    "    main_directory,\n",
    "    target_size=target_size,\n",
    "    batch_size=batch_size,\n",
    "    class_mode='categorical',\n",
    "    shuffle=True,\n",
    "    subset='training'\n",
    ")\n",
    "\n",
    "val_generator = datagen.flow_from_directory(\n",
    "    main_directory,\n",
    "    target_size=target_size,\n",
    "    batch_size=batch_size,\n",
    "    class_mode='categorical',\n",
    "    shuffle=False,\n",
    "    subset='validation'\n",
    ")\n"
   ]
  },
  {
   "cell_type": "code",
   "execution_count": 9,
   "id": "a352527d",
   "metadata": {},
   "outputs": [],
   "source": [
    "import os\n",
    "import shutil\n",
    "from sklearn.model_selection import train_test_split\n",
    "\n",
    "main_directory = 'C:/New folder/animals'\n",
    "\n",
    "train_directory = 'C:/New folder/trainData'\n",
    "\n",
    "val_directory = 'C:/New folder/validationData'\n",
    "\n",
    "test_size = 0.2\n",
    "\n",
    "os.makedirs(train_directory, exist_ok=True)\n",
    "os.makedirs(val_directory, exist_ok=True)\n",
    "\n",
    "subdirectories = [f.name for f in os.scandir(main_directory) if f.is_dir()]\n",
    "\n",
    "for subdirectory in subdirectories:\n",
    "    subdirectory_path = os.path.join(main_directory, subdirectory)\n",
    "    train_subdirectory = os.path.join(train_directory, subdirectory)\n",
    "    val_subdirectory = os.path.join(val_directory, subdirectory)\n",
    "    \n",
    "    os.makedirs(train_subdirectory, exist_ok=True)\n",
    "    os.makedirs(val_subdirectory, exist_ok=True)\n",
    "    \n",
    "    image_files = [f.name for f in os.scandir(subdirectory_path) if f.is_file()]\n",
    "    \n",
    "    train_files, val_files = train_test_split(image_files, test_size=test_size, random_state=42)\n",
    "    \n",
    "    for train_file in train_files:\n",
    "        src = os.path.join(subdirectory_path, train_file)\n",
    "        dst = os.path.join(train_subdirectory, train_file)\n",
    "        shutil.copy(src, dst)\n",
    "\n",
    "    for val_file in val_files:\n",
    "        src = os.path.join(subdirectory_path, val_file)\n",
    "        dst = os.path.join(val_subdirectory, val_file)\n",
    "        shutil.copy(src, dst)\n"
   ]
  },
  {
   "cell_type": "code",
   "execution_count": 10,
   "id": "aee0156d",
   "metadata": {},
   "outputs": [
    {
     "name": "stdout",
     "output_type": "stream",
     "text": [
      "Found 4320 images belonging to 90 classes.\n",
      "Found 1080 images belonging to 90 classes.\n"
     ]
    }
   ],
   "source": [
    "train_generator = datagen.flow_from_directory(\n",
    "    'C:/New folder/trainData',\n",
    "    target_size=(224, 224),\n",
    "    batch_size=32,\n",
    "    class_mode='categorical'\n",
    ")\n",
    "\n",
    "validation_generator = datagen.flow_from_directory(\n",
    "    'C:/New folder/validationData',\n",
    "    target_size=(224, 224),\n",
    "    batch_size=32,\n",
    "    class_mode='categorical'\n",
    ")\n"
   ]
  },
  {
   "cell_type": "code",
   "execution_count": 11,
   "id": "88601804",
   "metadata": {},
   "outputs": [],
   "source": [
    "import tensorflow as tf\n",
    "from tensorflow.keras.models import Sequential\n",
    "from tensorflow.keras.layers import Conv2D, MaxPooling2D, Flatten, Dense\n"
   ]
  },
  {
   "cell_type": "code",
   "execution_count": 12,
   "id": "ebb66fa4",
   "metadata": {},
   "outputs": [],
   "source": [
    "model = Sequential()\n",
    "\n",
    "model.add(Conv2D(32, (3, 3), activation='relu', input_shape=(224, 224, 3)))\n",
    "model.add(MaxPooling2D((2, 2)))\n",
    "\n",
    "model.add(Flatten())\n",
    "\n",
    "model.add(Dense(64, activation='relu'))\n",
    "model.add(Dense(32, activation='relu'))\n",
    "\n",
    "model.add(Dense(90, activation='softmax'))\n"
   ]
  },
  {
   "cell_type": "code",
   "execution_count": 13,
   "id": "e4a4634d",
   "metadata": {},
   "outputs": [
    {
     "name": "stdout",
     "output_type": "stream",
     "text": [
      "Epoch 1/10\n",
      "135/135 [==============================] - 314s 2s/step - loss: 4.9850 - accuracy: 0.0100 - val_loss: 4.4915 - val_accuracy: 0.0085\n",
      "Epoch 2/10\n",
      "135/135 [==============================] - 224s 2s/step - loss: 4.4906 - accuracy: 0.0120 - val_loss: 4.4774 - val_accuracy: 0.0142\n",
      "Epoch 3/10\n",
      "135/135 [==============================] - 185s 1s/step - loss: 4.4189 - accuracy: 0.0167 - val_loss: 4.4202 - val_accuracy: 0.0256\n",
      "Epoch 4/10\n",
      "135/135 [==============================] - 186s 1s/step - loss: 4.3565 - accuracy: 0.0299 - val_loss: 4.3735 - val_accuracy: 0.0360\n",
      "Epoch 5/10\n",
      "135/135 [==============================] - 197s 1s/step - loss: 4.3039 - accuracy: 0.0329 - val_loss: 4.3753 - val_accuracy: 0.0256\n",
      "Epoch 6/10\n",
      "135/135 [==============================] - 185s 1s/step - loss: 4.2516 - accuracy: 0.0331 - val_loss: 4.3026 - val_accuracy: 0.0436\n",
      "Epoch 7/10\n",
      "135/135 [==============================] - 350s 3s/step - loss: 4.2239 - accuracy: 0.0382 - val_loss: 4.2658 - val_accuracy: 0.0360\n",
      "Epoch 8/10\n",
      "135/135 [==============================] - 163s 1s/step - loss: 4.1859 - accuracy: 0.0407 - val_loss: 4.2571 - val_accuracy: 0.0455\n",
      "Epoch 9/10\n",
      "135/135 [==============================] - 147s 1s/step - loss: 4.1553 - accuracy: 0.0465 - val_loss: 4.2493 - val_accuracy: 0.0379\n",
      "Epoch 10/10\n",
      "135/135 [==============================] - 143s 1s/step - loss: 4.1292 - accuracy: 0.0502 - val_loss: 4.2062 - val_accuracy: 0.0511\n"
     ]
    },
    {
     "ename": "NameError",
     "evalue": "name 'test_images' is not defined",
     "output_type": "error",
     "traceback": [
      "\u001b[1;31m---------------------------------------------------------------------------\u001b[0m",
      "\u001b[1;31mNameError\u001b[0m                                 Traceback (most recent call last)",
      "Cell \u001b[1;32mIn[13], line 11\u001b[0m\n\u001b[0;32m      1\u001b[0m model\u001b[38;5;241m.\u001b[39mcompile(optimizer\u001b[38;5;241m=\u001b[39m\u001b[38;5;124m'\u001b[39m\u001b[38;5;124madam\u001b[39m\u001b[38;5;124m'\u001b[39m, loss\u001b[38;5;241m=\u001b[39m\u001b[38;5;124m'\u001b[39m\u001b[38;5;124mcategorical_crossentropy\u001b[39m\u001b[38;5;124m'\u001b[39m, metrics\u001b[38;5;241m=\u001b[39m[\u001b[38;5;124m'\u001b[39m\u001b[38;5;124maccuracy\u001b[39m\u001b[38;5;124m'\u001b[39m])\n\u001b[0;32m      3\u001b[0m history \u001b[38;5;241m=\u001b[39m model\u001b[38;5;241m.\u001b[39mfit(\n\u001b[0;32m      4\u001b[0m     train_generator,\n\u001b[0;32m      5\u001b[0m     steps_per_epoch\u001b[38;5;241m=\u001b[39mtrain_generator\u001b[38;5;241m.\u001b[39msamples\u001b[38;5;241m/\u001b[39m\u001b[38;5;241m/\u001b[39mtrain_generator\u001b[38;5;241m.\u001b[39mbatch_size,\n\u001b[1;32m   (...)\u001b[0m\n\u001b[0;32m      8\u001b[0m     epochs\u001b[38;5;241m=\u001b[39m\u001b[38;5;241m10\u001b[39m\n\u001b[0;32m      9\u001b[0m )\n\u001b[1;32m---> 11\u001b[0m test_loss, test_acc \u001b[38;5;241m=\u001b[39m model\u001b[38;5;241m.\u001b[39mevaluate(\u001b[43mtest_images\u001b[49m, test_labels)\n",
      "\u001b[1;31mNameError\u001b[0m: name 'test_images' is not defined"
     ]
    }
   ],
   "source": [
    "model.compile(optimizer='adam', loss='categorical_crossentropy', metrics=['accuracy'])\n",
    "\n",
    "history = model.fit(\n",
    "    train_generator,\n",
    "    steps_per_epoch=train_generator.samples//train_generator.batch_size,\n",
    "    validation_data=validation_generator,\n",
    "    validation_steps=validation_generator.samples//validation_generator.batch_size,\n",
    "    epochs=10\n",
    ")\n",
    "\n",
    "test_loss, test_acc = model.evaluate(test_images, test_labels)\n"
   ]
  },
  {
   "cell_type": "code",
   "execution_count": 17,
   "id": "bf0345ff",
   "metadata": {},
   "outputs": [
    {
     "name": "stdout",
     "output_type": "stream",
     "text": [
      "Found 810 images belonging to 90 classes.\n",
      "26/26 [==============================] - 20s 801ms/step - loss: 4.1043 - accuracy: 0.0519\n",
      "Test Loss: 4.1043171882629395\n",
      "Test Accuracy: 0.051851850003004074\n"
     ]
    }
   ],
   "source": [
    "test_data_dir = 'C:/New folder/testData'\n",
    "test_generator = datagen.flow_from_directory(\n",
    "    test_data_dir,\n",
    "    target_size=(224, 224),\n",
    "    batch_size=32,\n",
    "    class_mode='categorical',\n",
    "    shuffle=False\n",
    ")\n",
    "test_loss, test_acc = model.evaluate(test_generator)\n",
    "\n",
    "print('Test Loss:', test_loss)\n",
    "print('Test Accuracy:', test_acc)\n",
    " "
   ]
  },
  {
   "cell_type": "code",
   "execution_count": null,
   "id": "f296d24d",
   "metadata": {},
   "outputs": [],
   "source": []
  }
 ],
 "metadata": {
  "kernelspec": {
   "display_name": "Python 3 (ipykernel)",
   "language": "python",
   "name": "python3"
  },
  "language_info": {
   "codemirror_mode": {
    "name": "ipython",
    "version": 3
   },
   "file_extension": ".py",
   "mimetype": "text/x-python",
   "name": "python",
   "nbconvert_exporter": "python",
   "pygments_lexer": "ipython3",
   "version": "3.10.9"
  }
 },
 "nbformat": 4,
 "nbformat_minor": 5
}
